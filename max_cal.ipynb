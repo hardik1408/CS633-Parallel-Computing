{
 "cells": [
  {
   "cell_type": "code",
   "execution_count": 2,
   "metadata": {},
   "outputs": [
    {
     "ename": "IndexError",
     "evalue": "list index out of range",
     "output_type": "error",
     "traceback": [
      "\u001b[0;31m---------------------------------------------------------------------------\u001b[0m",
      "\u001b[0;31mIndexError\u001b[0m                                Traceback (most recent call last)",
      "Cell \u001b[0;32mIn[2], line 15\u001b[0m\n\u001b[1;32m     13\u001b[0m time \u001b[38;5;241m=\u001b[39m line\u001b[38;5;241m.\u001b[39mstrip()\u001b[38;5;241m.\u001b[39msplit(\u001b[38;5;124m'\u001b[39m\u001b[38;5;124m \u001b[39m\u001b[38;5;124m'\u001b[39m)\n\u001b[1;32m     14\u001b[0m \u001b[38;5;28;01mfor\u001b[39;00m i \u001b[38;5;129;01min\u001b[39;00m \u001b[38;5;28mrange\u001b[39m(TM):\n\u001b[0;32m---> 15\u001b[0m     \u001b[43mdata\u001b[49m\u001b[43m[\u001b[49m\u001b[43mx\u001b[49m\u001b[43m]\u001b[49m\u001b[43m[\u001b[49m\u001b[43my\u001b[49m\u001b[43m]\u001b[49m\u001b[43m[\u001b[49m\u001b[43mz\u001b[49m\u001b[43m]\u001b[49m[i] \u001b[38;5;241m=\u001b[39m \u001b[38;5;28mfloat\u001b[39m(time[i])\n\u001b[1;32m     16\u001b[0m x \u001b[38;5;241m+\u001b[39m\u001b[38;5;241m=\u001b[39m \u001b[38;5;241m1\u001b[39m\n\u001b[1;32m     17\u001b[0m \u001b[38;5;28;01mif\u001b[39;00m x \u001b[38;5;241m==\u001b[39m NX:\n",
      "\u001b[0;31mIndexError\u001b[0m: list index out of range"
     ]
    }
   ],
   "source": [
    "import numpy as np\n",
    "\n",
    "NX = 64\n",
    "NY = 64\n",
    "NZ = 64\n",
    "TM = 3\n",
    "data = [[[[0 for l in range(TM)] for k in range(NZ)] for j in range(NY)] for i in range(NX)]\n",
    "x = 0 \n",
    "y = 0\n",
    "z = 0\n",
    "with open('data_64_64_96_7.txt', 'r') as f:\n",
    "    for line in f:\n",
    "        time = line.strip().split(' ')\n",
    "        for i in range(TM):\n",
    "            data[x][y][z][i] = float(time[i])\n",
    "        x += 1\n",
    "        if x == NX:\n",
    "            x = 0\n",
    "            y += 1\n",
    "        if y == NY:\n",
    "            y = 0\n",
    "            z += 1\n",
    "\n",
    "data = np.array(data)\n",
    "print(data.shape)\n"
   ]
  },
  {
   "cell_type": "code",
   "execution_count": 3,
   "metadata": {},
   "outputs": [
    {
     "name": "stdout",
     "output_type": "stream",
     "text": [
      "[38054, 38073, 38051]\n"
     ]
    }
   ],
   "source": [
    "ans = []\n",
    "for l in range(TM):\n",
    "    sum = 0\n",
    "    for i in range(NX):\n",
    "        for j in range(NY):\n",
    "            for k in range(NZ):\n",
    "                if i > 0 and data[i][j][k][l] < data[i-1][j][k][l]:\n",
    "                    continue\n",
    "                if i < NX-1 and data[i][j][k][l] < data[i+1][j][k][l]:\n",
    "                    continue\n",
    "                if j > 0 and data[i][j][k][l] < data[i][j-1][k][l]:\n",
    "                    continue\n",
    "                if j < NY-1 and data[i][j][k][l] < data[i][j+1][k][l]:\n",
    "                    continue\n",
    "                if k > 0 and data[i][j][k][l] < data[i][j][k-1][l]:\n",
    "                    continue\n",
    "                if k < NZ-1 and data[i][j][k][l] < data[i][j][k+1][l]:\n",
    "                    continue\n",
    "                sum += 1\n",
    "    ans.append(sum)\n",
    "print(ans)\n",
    "                \n"
   ]
  },
  {
   "cell_type": "code",
   "execution_count": 7,
   "metadata": {},
   "outputs": [
    {
     "name": "stdout",
     "output_type": "stream",
     "text": [
      "[37988, 37826, 37788]\n"
     ]
    }
   ],
   "source": [
    "ans1 = []\n",
    "for l in range(TM):\n",
    "    sum = 0\n",
    "    for i in range(NX):\n",
    "        for j in range(NY):\n",
    "            for k in range(NZ):\n",
    "                if i > 0 and data[i][j][k][l] >= data[i-1][j][k][l]:\n",
    "                    continue\n",
    "                if i < NX-1 and data[i][j][k][l] >= data[i+1][j][k][l]:\n",
    "                    continue\n",
    "                if j > 0 and data[i][j][k][l] >= data[i][j-1][k][l]:\n",
    "                    continue\n",
    "                if j < NY-1 and data[i][j][k][l] >= data[i][j+1][k][l]:\n",
    "                    continue\n",
    "                if k > 0 and data[i][j][k][l] >= data[i][j][k-1][l]:\n",
    "                    continue\n",
    "                if k < NZ-1 and data[i][j][k][l] >= data[i][j][k+1][l]:\n",
    "                    continue\n",
    "                sum += 1\n",
    "    ans1.append(sum)\n",
    "print(ans1)\n",
    "                \n"
   ]
  }
 ],
 "metadata": {
  "kernelspec": {
   "display_name": "Python 3",
   "language": "python",
   "name": "python3"
  },
  "language_info": {
   "codemirror_mode": {
    "name": "ipython",
    "version": 3
   },
   "file_extension": ".py",
   "mimetype": "text/x-python",
   "name": "python",
   "nbconvert_exporter": "python",
   "pygments_lexer": "ipython3",
   "version": "3.12.3"
  }
 },
 "nbformat": 4,
 "nbformat_minor": 2
}
